{
 "cells": [
  {
   "cell_type": "code",
   "execution_count": 12,
   "metadata": {},
   "outputs": [],
   "source": [
    "from keras.layers import  Dense,Dropout,SimpleRNN,LSTM\n",
    "from keras.models import  Sequential\n",
    "import pandas as pd\n",
    "import numpy as np\n",
    "import matplotlib as mpl\n",
    "import matplotlib.pyplot as plt\n",
    "from datetime import timedelta\n",
    "from sklearn.preprocessing import MinMaxScaler\n",
    "from sklearn.metrics import mean_squared_error\n",
    "from math import sqrt"
   ]
  },
  {
   "cell_type": "code",
   "execution_count": 13,
   "metadata": {},
   "outputs": [
    {
     "data": {
      "text/html": [
       "<div>\n",
       "<style scoped>\n",
       "    .dataframe tbody tr th:only-of-type {\n",
       "        vertical-align: middle;\n",
       "    }\n",
       "\n",
       "    .dataframe tbody tr th {\n",
       "        vertical-align: top;\n",
       "    }\n",
       "\n",
       "    .dataframe thead th {\n",
       "        text-align: right;\n",
       "    }\n",
       "</style>\n",
       "<table border=\"1\" class=\"dataframe\">\n",
       "  <thead>\n",
       "    <tr style=\"text-align: right;\">\n",
       "      <th></th>\n",
       "      <th>備轉容量(MW)</th>\n",
       "      <th>dayofweek</th>\n",
       "    </tr>\n",
       "    <tr>\n",
       "      <th>日期</th>\n",
       "      <th></th>\n",
       "      <th></th>\n",
       "    </tr>\n",
       "  </thead>\n",
       "  <tbody>\n",
       "    <tr>\n",
       "      <th>2021-01-01</th>\n",
       "      <td>2767</td>\n",
       "      <td>4</td>\n",
       "    </tr>\n",
       "    <tr>\n",
       "      <th>2021-01-02</th>\n",
       "      <td>2936</td>\n",
       "      <td>5</td>\n",
       "    </tr>\n",
       "    <tr>\n",
       "      <th>2021-01-03</th>\n",
       "      <td>3037</td>\n",
       "      <td>6</td>\n",
       "    </tr>\n",
       "    <tr>\n",
       "      <th>2021-01-04</th>\n",
       "      <td>3032</td>\n",
       "      <td>0</td>\n",
       "    </tr>\n",
       "    <tr>\n",
       "      <th>2021-01-05</th>\n",
       "      <td>3067</td>\n",
       "      <td>1</td>\n",
       "    </tr>\n",
       "    <tr>\n",
       "      <th>...</th>\n",
       "      <td>...</td>\n",
       "      <td>...</td>\n",
       "    </tr>\n",
       "    <tr>\n",
       "      <th>2022-02-24</th>\n",
       "      <td>2511</td>\n",
       "      <td>3</td>\n",
       "    </tr>\n",
       "    <tr>\n",
       "      <th>2022-02-25</th>\n",
       "      <td>3406</td>\n",
       "      <td>4</td>\n",
       "    </tr>\n",
       "    <tr>\n",
       "      <th>2022-02-26</th>\n",
       "      <td>3437</td>\n",
       "      <td>5</td>\n",
       "    </tr>\n",
       "    <tr>\n",
       "      <th>2022-02-27</th>\n",
       "      <td>3730</td>\n",
       "      <td>6</td>\n",
       "    </tr>\n",
       "    <tr>\n",
       "      <th>2022-02-28</th>\n",
       "      <td>4127</td>\n",
       "      <td>0</td>\n",
       "    </tr>\n",
       "  </tbody>\n",
       "</table>\n",
       "<p>424 rows × 2 columns</p>\n",
       "</div>"
      ],
      "text/plain": [
       "            備轉容量(MW)  dayofweek\n",
       "日期                             \n",
       "2021-01-01      2767          4\n",
       "2021-01-02      2936          5\n",
       "2021-01-03      3037          6\n",
       "2021-01-04      3032          0\n",
       "2021-01-05      3067          1\n",
       "...              ...        ...\n",
       "2022-02-24      2511          3\n",
       "2022-02-25      3406          4\n",
       "2022-02-26      3437          5\n",
       "2022-02-27      3730          6\n",
       "2022-02-28      4127          0\n",
       "\n",
       "[424 rows x 2 columns]"
      ]
     },
     "execution_count": 13,
     "metadata": {},
     "output_type": "execute_result"
    }
   ],
   "source": [
    "df = pd.read_csv('台灣電力公司_過去電力供需資訊.csv')\n",
    "df.head()\n",
    "df['日期'] = pd.to_datetime(df['日期'], format='%Y%m%d')\n",
    "df = df.loc[:, ['日期', '備轉容量(MW)']]\n",
    "\n",
    "df['dayofweek'] = df['日期'].dt.dayofweek\n",
    "\n",
    "df = df.set_index('日期')\n",
    "df"
   ]
  },
  {
   "cell_type": "code",
   "execution_count": 14,
   "metadata": {},
   "outputs": [
    {
     "data": {
      "text/plain": [
       "備轉容量(MW)     0\n",
       "dayofweek    0\n",
       "dtype: int64"
      ]
     },
     "execution_count": 14,
     "metadata": {},
     "output_type": "execute_result"
    }
   ],
   "source": [
    "df.isna().sum()"
   ]
  },
  {
   "cell_type": "code",
   "execution_count": 15,
   "metadata": {},
   "outputs": [
    {
     "data": {
      "text/plain": [
       "<AxesSubplot:xlabel='日期'>"
      ]
     },
     "execution_count": 15,
     "metadata": {},
     "output_type": "execute_result"
    },
    {
     "name": "stderr",
     "output_type": "stream",
     "text": [
      "D:\\Python\\Python37\\lib\\site-packages\\IPython\\core\\pylabtools.py:151: UserWarning: Glyph 26085 (\\N{CJK UNIFIED IDEOGRAPH-65E5}) missing from current font.\n",
      "  fig.canvas.print_figure(bytes_io, **kw)\n",
      "D:\\Python\\Python37\\lib\\site-packages\\IPython\\core\\pylabtools.py:151: UserWarning: Glyph 26399 (\\N{CJK UNIFIED IDEOGRAPH-671F}) missing from current font.\n",
      "  fig.canvas.print_figure(bytes_io, **kw)\n"
     ]
    },
    {
     "data": {
      "image/png": "[encoded data removed]",
      "text/plain": [
       "<Figure size 432x288 with 1 Axes>"
      ]
     },
     "metadata": {
      "needs_background": "light"
     },
     "output_type": "display_data"
    }
   ],
   "source": [
    "df['備轉容量(MW)'].plot()"
   ]
  },
  {
   "cell_type": "code",
   "execution_count": 36,
   "metadata": {},
   "outputs": [
    {
     "name": "stdout",
     "output_type": "stream",
     "text": [
      "            備轉容量(MW)  dayofweek\n",
      "日期                             \n",
      "2021-01-01  0.242967   0.666667\n",
      "2021-01-02  0.273840   0.833333\n",
      "2021-01-03  0.292291   1.000000\n",
      "2021-01-04  0.291377   0.000000\n",
      "2021-01-05  0.297771   0.166667\n",
      "...              ...        ...\n",
      "2021-10-01  0.317501   0.666667\n",
      "2021-10-02  0.693825   0.833333\n",
      "2021-10-03  0.343442   1.000000\n",
      "2021-10-04  0.423639   0.000000\n",
      "2021-10-05  0.225247   0.166667\n",
      "\n",
      "[278 rows x 2 columns]\n",
      "            備轉容量(MW)  dayofweek\n",
      "日期                             \n",
      "2021-10-06  0.134541   0.333333\n",
      "2021-10-07  0.000000   0.500000\n",
      "2021-10-08  0.043369   0.666667\n",
      "2021-10-09  0.676754   0.833333\n",
      "2021-10-10  0.388011   1.000000\n",
      "...              ...        ...\n",
      "2022-02-24  0.170008   0.500000\n",
      "2022-02-25  0.342521   0.666667\n",
      "2022-02-26  0.348497   0.833333\n",
      "2022-02-27  0.404973   1.000000\n",
      "2022-02-28  0.481496   0.000000\n",
      "\n",
      "[146 rows x 2 columns]\n"
     ]
    }
   ],
   "source": [
    "scaler = MinMaxScaler()\n",
    "train = df[0:278]\n",
    "test = df[278:]\n",
    "train = pd.DataFrame(scaler.fit_transform(train), columns=train.columns, index=train.index)\n",
    "test = pd.DataFrame(scaler.fit_transform(test), columns=test.columns, index=test.index)\n",
    "print(train)\n",
    "print(test)"
   ]
  },
  {
   "cell_type": "code",
   "execution_count": 37,
   "metadata": {},
   "outputs": [
    {
     "name": "stdout",
     "output_type": "stream",
     "text": [
      "[[0.24296675 0.66666667]\n",
      " [0.27383997 0.83333333]\n",
      " [0.29229083 1.        ]\n",
      " [0.29137742 0.        ]\n",
      " [0.29777128 0.16666667]\n",
      " [0.30416514 0.33333333]\n",
      " [0.30416514 0.5       ]]\n",
      "0.304165144318597\n"
     ]
    }
   ],
   "source": [
    "n_step = 7\n",
    "feature_names = list(norm_data.columns)\n",
    "X = []\n",
    "y = []\n",
    "indexes = []\n",
    "norm_data_x = train[feature_names]\n",
    "for i in range(0,len(train)-n_step): \n",
    "    X.append(norm_data_x.iloc[i:i+n_step].values) \n",
    "    y.append(train['備轉容量(MW)'].iloc[i+n_step-1]) #現有資料+30天的Y\n",
    "    indexes.append(train.index[i+n_step-1]) #Y的日期\n",
    "print(X[0])\n",
    "print(y[0])"
   ]
  },
  {
   "cell_type": "code",
   "execution_count": 38,
   "metadata": {},
   "outputs": [
    {
     "name": "stdout",
     "output_type": "stream",
     "text": [
      "(271, 7, 2)\n",
      "(271,)\n"
     ]
    }
   ],
   "source": [
    "X = np.array(X)\n",
    "y = np.array(y)\n",
    "print(X.shape)\n",
    "print(y.shape)"
   ]
  },
  {
   "cell_type": "code",
   "execution_count": 39,
   "metadata": {},
   "outputs": [
    {
     "name": "stdout",
     "output_type": "stream",
     "text": [
      "WARNING:tensorflow:Layer lstm_1 will not use cuDNN kernels since it doesn't meet the criteria. It will use a generic GPU kernel as fallback when running on GPU.\n"
     ]
    }
   ],
   "source": [
    "n_feature = 2\n",
    "\n",
    "model = Sequential()\n",
    "\n",
    "model.add(LSTM(40, activation='relu', return_sequences=False, input_shape=(n_step, n_feature)))\n",
    "\n",
    "model.add(Dense(1))\n",
    "model.compile(optimizer='adam', loss='mse', metrics=['mse', 'mape'])"
   ]
  },
  {
   "cell_type": "code",
   "execution_count": 40,
   "metadata": {},
   "outputs": [
    {
     "name": "stdout",
     "output_type": "stream",
     "text": [
      "Epoch 1/100\n",
      "3/3 [==============================] - 1s 40ms/step - loss: 0.0989 - mse: 0.0989 - mape: 372990.1250\n",
      "Epoch 2/100\n",
      "3/3 [==============================] - 0s 37ms/step - loss: 0.0812 - mse: 0.0812 - mape: 524572.8125\n",
      "Epoch 3/100\n",
      "3/3 [==============================] - 0s 35ms/step - loss: 0.0639 - mse: 0.0639 - mape: 649897.8750\n",
      "Epoch 4/100\n",
      "3/3 [==============================] - 0s 35ms/step - loss: 0.0480 - mse: 0.0480 - mape: 739968.2500\n",
      "Epoch 5/100\n",
      "3/3 [==============================] - 0s 33ms/step - loss: 0.0337 - mse: 0.0337 - mape: 983959.5000\n",
      "Epoch 6/100\n",
      "3/3 [==============================] - 0s 33ms/step - loss: 0.0224 - mse: 0.0224 - mape: 1155033.7500\n",
      "Epoch 7/100\n",
      "3/3 [==============================] - 0s 38ms/step - loss: 0.0159 - mse: 0.0159 - mape: 1215662.6250\n",
      "Epoch 8/100\n",
      "3/3 [==============================] - 0s 34ms/step - loss: 0.0149 - mse: 0.0149 - mape: 1500741.5000\n",
      "Epoch 9/100\n",
      "3/3 [==============================] - 0s 33ms/step - loss: 0.0174 - mse: 0.0174 - mape: 1573547.5000\n",
      "Epoch 10/100\n",
      "3/3 [==============================] - 0s 33ms/step - loss: 0.0179 - mse: 0.0179 - mape: 1567410.1250\n",
      "Epoch 11/100\n",
      "3/3 [==============================] - 0s 36ms/step - loss: 0.0159 - mse: 0.0159 - mape: 1505852.8750\n",
      "Epoch 12/100\n",
      "3/3 [==============================] - 0s 33ms/step - loss: 0.0142 - mse: 0.0142 - mape: 1445783.6250\n",
      "Epoch 13/100\n",
      "3/3 [==============================] - 0s 33ms/step - loss: 0.0133 - mse: 0.0133 - mape: 1305988.6250\n",
      "Epoch 14/100\n",
      "3/3 [==============================] - 0s 33ms/step - loss: 0.0131 - mse: 0.0131 - mape: 1285610.1250\n",
      "Epoch 15/100\n",
      "3/3 [==============================] - 0s 37ms/step - loss: 0.0132 - mse: 0.0132 - mape: 1244451.8750\n",
      "Epoch 16/100\n",
      "3/3 [==============================] - 0s 36ms/step - loss: 0.0129 - mse: 0.0129 - mape: 1227146.1250\n",
      "Epoch 17/100\n",
      "3/3 [==============================] - 0s 36ms/step - loss: 0.0123 - mse: 0.0123 - mape: 1241624.5000\n",
      "Epoch 18/100\n",
      "3/3 [==============================] - 0s 38ms/step - loss: 0.0116 - mse: 0.0116 - mape: 1249167.1250\n",
      "Epoch 19/100\n",
      "3/3 [==============================] - 0s 33ms/step - loss: 0.0111 - mse: 0.0111 - mape: 1270593.1250\n",
      "Epoch 20/100\n",
      "3/3 [==============================] - 0s 55ms/step - loss: 0.0108 - mse: 0.0108 - mape: 1291676.6250\n",
      "Epoch 21/100\n",
      "3/3 [==============================] - 0s 37ms/step - loss: 0.0104 - mse: 0.0104 - mape: 1289966.5000\n",
      "Epoch 22/100\n",
      "3/3 [==============================] - 0s 32ms/step - loss: 0.0101 - mse: 0.0101 - mape: 1266352.0000\n",
      "Epoch 23/100\n",
      "3/3 [==============================] - 0s 38ms/step - loss: 0.0098 - mse: 0.0098 - mape: 1229828.7500\n",
      "Epoch 24/100\n",
      "3/3 [==============================] - 0s 51ms/step - loss: 0.0096 - mse: 0.0096 - mape: 1224070.6250\n",
      "Epoch 25/100\n",
      "3/3 [==============================] - 0s 36ms/step - loss: 0.0093 - mse: 0.0093 - mape: 1221464.7500\n",
      "Epoch 26/100\n",
      "3/3 [==============================] - 0s 37ms/step - loss: 0.0090 - mse: 0.0090 - mape: 1214717.1250\n",
      "Epoch 27/100\n",
      "3/3 [==============================] - 0s 38ms/step - loss: 0.0088 - mse: 0.0088 - mape: 1221657.8750\n",
      "Epoch 28/100\n",
      "3/3 [==============================] - 0s 35ms/step - loss: 0.0086 - mse: 0.0086 - mape: 1217047.0000\n",
      "Epoch 29/100\n",
      "3/3 [==============================] - 0s 33ms/step - loss: 0.0085 - mse: 0.0085 - mape: 1190802.1250\n",
      "Epoch 30/100\n",
      "3/3 [==============================] - 0s 32ms/step - loss: 0.0083 - mse: 0.0083 - mape: 1172982.7500\n",
      "Epoch 31/100\n",
      "3/3 [==============================] - 0s 36ms/step - loss: 0.0082 - mse: 0.0082 - mape: 1174728.2500\n",
      "Epoch 32/100\n",
      "3/3 [==============================] - 0s 39ms/step - loss: 0.0080 - mse: 0.0080 - mape: 1174944.2500\n",
      "Epoch 33/100\n",
      "3/3 [==============================] - 0s 33ms/step - loss: 0.0079 - mse: 0.0079 - mape: 1163529.3750\n",
      "Epoch 34/100\n",
      "3/3 [==============================] - 0s 38ms/step - loss: 0.0078 - mse: 0.0078 - mape: 1150309.3750\n",
      "Epoch 35/100\n",
      "3/3 [==============================] - 0s 33ms/step - loss: 0.0077 - mse: 0.0077 - mape: 1144237.7500\n",
      "Epoch 36/100\n",
      "3/3 [==============================] - 0s 33ms/step - loss: 0.0076 - mse: 0.0076 - mape: 1122531.3750\n",
      "Epoch 37/100\n",
      "3/3 [==============================] - 0s 35ms/step - loss: 0.0075 - mse: 0.0075 - mape: 1132935.6250\n",
      "Epoch 38/100\n",
      "3/3 [==============================] - 0s 35ms/step - loss: 0.0074 - mse: 0.0074 - mape: 1131918.6250\n",
      "Epoch 39/100\n",
      "3/3 [==============================] - 0s 37ms/step - loss: 0.0073 - mse: 0.0073 - mape: 1123362.3750\n",
      "Epoch 40/100\n",
      "3/3 [==============================] - 0s 36ms/step - loss: 0.0072 - mse: 0.0072 - mape: 1093104.7500\n",
      "Epoch 41/100\n",
      "3/3 [==============================] - 0s 37ms/step - loss: 0.0071 - mse: 0.0071 - mape: 1092299.7500\n",
      "Epoch 42/100\n",
      "3/3 [==============================] - 0s 45ms/step - loss: 0.0070 - mse: 0.0070 - mape: 1100556.8750\n",
      "Epoch 43/100\n",
      "3/3 [==============================] - 0s 39ms/step - loss: 0.0069 - mse: 0.0069 - mape: 1097471.2500\n",
      "Epoch 44/100\n",
      "3/3 [==============================] - 0s 33ms/step - loss: 0.0068 - mse: 0.0068 - mape: 1067083.3750\n",
      "Epoch 45/100\n",
      "3/3 [==============================] - 0s 31ms/step - loss: 0.0067 - mse: 0.0067 - mape: 1043974.1250\n",
      "Epoch 46/100\n",
      "3/3 [==============================] - 0s 34ms/step - loss: 0.0066 - mse: 0.0066 - mape: 1053171.2500\n",
      "Epoch 47/100\n",
      "3/3 [==============================] - 0s 33ms/step - loss: 0.0065 - mse: 0.0065 - mape: 1060595.2500\n",
      "Epoch 48/100\n",
      "3/3 [==============================] - 0s 36ms/step - loss: 0.0064 - mse: 0.0064 - mape: 1049413.3750\n",
      "Epoch 49/100\n",
      "3/3 [==============================] - 0s 33ms/step - loss: 0.0063 - mse: 0.0063 - mape: 1022995.0000\n",
      "Epoch 50/100\n",
      "3/3 [==============================] - 0s 33ms/step - loss: 0.0062 - mse: 0.0062 - mape: 1030481.1250\n",
      "Epoch 51/100\n",
      "3/3 [==============================] - 0s 33ms/step - loss: 0.0061 - mse: 0.0061 - mape: 1023520.9375\n",
      "Epoch 52/100\n",
      "3/3 [==============================] - 0s 36ms/step - loss: 0.0060 - mse: 0.0060 - mape: 999962.6875\n",
      "Epoch 53/100\n",
      "3/3 [==============================] - 0s 32ms/step - loss: 0.0059 - mse: 0.0059 - mape: 996923.8750\n",
      "Epoch 54/100\n",
      "3/3 [==============================] - 0s 32ms/step - loss: 0.0058 - mse: 0.0058 - mape: 985622.1875\n",
      "Epoch 55/100\n",
      "3/3 [==============================] - 0s 34ms/step - loss: 0.0057 - mse: 0.0057 - mape: 980843.5625\n",
      "Epoch 56/100\n",
      "3/3 [==============================] - 0s 33ms/step - loss: 0.0056 - mse: 0.0056 - mape: 974642.8125\n",
      "Epoch 57/100\n",
      "3/3 [==============================] - 0s 33ms/step - loss: 0.0055 - mse: 0.0055 - mape: 972656.1875\n",
      "Epoch 58/100\n",
      "3/3 [==============================] - 0s 34ms/step - loss: 0.0054 - mse: 0.0054 - mape: 968919.1875\n",
      "Epoch 59/100\n",
      "3/3 [==============================] - 0s 32ms/step - loss: 0.0053 - mse: 0.0053 - mape: 953225.3750\n",
      "Epoch 60/100\n",
      "3/3 [==============================] - 0s 34ms/step - loss: 0.0051 - mse: 0.0051 - mape: 940921.6875\n",
      "Epoch 61/100\n",
      "3/3 [==============================] - 0s 36ms/step - loss: 0.0050 - mse: 0.0050 - mape: 918263.9375\n",
      "Epoch 62/100\n",
      "3/3 [==============================] - 0s 37ms/step - loss: 0.0049 - mse: 0.0049 - mape: 916902.5625\n",
      "Epoch 63/100\n",
      "3/3 [==============================] - 0s 32ms/step - loss: 0.0048 - mse: 0.0048 - mape: 920785.3125\n",
      "Epoch 64/100\n",
      "3/3 [==============================] - 0s 36ms/step - loss: 0.0046 - mse: 0.0046 - mape: 894728.8125\n",
      "Epoch 65/100\n",
      "3/3 [==============================] - 0s 34ms/step - loss: 0.0045 - mse: 0.0045 - mape: 869281.8750\n",
      "Epoch 66/100\n",
      "3/3 [==============================] - 0s 33ms/step - loss: 0.0043 - mse: 0.0043 - mape: 872148.0625\n",
      "Epoch 67/100\n",
      "3/3 [==============================] - 0s 32ms/step - loss: 0.0042 - mse: 0.0042 - mape: 841879.9375\n",
      "Epoch 68/100\n",
      "3/3 [==============================] - 0s 34ms/step - loss: 0.0040 - mse: 0.0040 - mape: 827237.9375\n",
      "Epoch 69/100\n",
      "3/3 [==============================] - 0s 34ms/step - loss: 0.0039 - mse: 0.0039 - mape: 839177.0000\n",
      "Epoch 70/100\n",
      "3/3 [==============================] - 0s 32ms/step - loss: 0.0037 - mse: 0.0037 - mape: 767782.1250\n",
      "Epoch 71/100\n",
      "3/3 [==============================] - 0s 36ms/step - loss: 0.0035 - mse: 0.0035 - mape: 761780.5000\n",
      "Epoch 72/100\n",
      "3/3 [==============================] - 0s 33ms/step - loss: 0.0034 - mse: 0.0034 - mape: 791231.2500\n",
      "Epoch 73/100\n",
      "3/3 [==============================] - 0s 33ms/step - loss: 0.0032 - mse: 0.0032 - mape: 716815.9375\n",
      "Epoch 74/100\n",
      "3/3 [==============================] - 0s 35ms/step - loss: 0.0030 - mse: 0.0030 - mape: 716601.6875\n",
      "Epoch 75/100\n",
      "3/3 [==============================] - 0s 35ms/step - loss: 0.0028 - mse: 0.0028 - mape: 720860.2500\n",
      "Epoch 76/100\n",
      "3/3 [==============================] - 0s 34ms/step - loss: 0.0026 - mse: 0.0026 - mape: 666890.7500\n",
      "Epoch 77/100\n",
      "3/3 [==============================] - 0s 32ms/step - loss: 0.0023 - mse: 0.0023 - mape: 633783.2500\n",
      "Epoch 78/100\n",
      "3/3 [==============================] - 0s 34ms/step - loss: 0.0021 - mse: 0.0021 - mape: 616389.4375\n",
      "Epoch 79/100\n",
      "3/3 [==============================] - 0s 36ms/step - loss: 0.0019 - mse: 0.0019 - mape: 596843.2500\n",
      "Epoch 80/100\n",
      "3/3 [==============================] - 0s 37ms/step - loss: 0.0016 - mse: 0.0016 - mape: 555522.6875\n",
      "Epoch 81/100\n",
      "3/3 [==============================] - 0s 36ms/step - loss: 0.0015 - mse: 0.0015 - mape: 548022.3125\n",
      "Epoch 82/100\n",
      "3/3 [==============================] - 0s 35ms/step - loss: 0.0013 - mse: 0.0013 - mape: 495848.7500\n",
      "Epoch 83/100\n",
      "3/3 [==============================] - 0s 33ms/step - loss: 0.0011 - mse: 0.0011 - mape: 486547.7188\n",
      "Epoch 84/100\n",
      "3/3 [==============================] - 0s 35ms/step - loss: 9.6896e-04 - mse: 9.6896e-04 - mape: 380327.5000\n",
      "Epoch 85/100\n",
      "3/3 [==============================] - 0s 33ms/step - loss: 8.0372e-04 - mse: 8.0372e-04 - mape: 395552.2812\n",
      "Epoch 86/100\n",
      "3/3 [==============================] - 0s 33ms/step - loss: 6.7608e-04 - mse: 6.7608e-04 - mape: 347857.4375\n",
      "Epoch 87/100\n",
      "3/3 [==============================] - 0s 35ms/step - loss: 6.6437e-04 - mse: 6.6437e-04 - mape: 320798.1250\n",
      "Epoch 88/100\n",
      "3/3 [==============================] - 0s 34ms/step - loss: 5.1351e-04 - mse: 5.1351e-04 - mape: 312418.2812\n",
      "Epoch 89/100\n",
      "3/3 [==============================] - 0s 35ms/step - loss: 4.7445e-04 - mse: 4.7445e-04 - mape: 320102.3438\n",
      "Epoch 90/100\n",
      "3/3 [==============================] - 0s 39ms/step - loss: 4.1449e-04 - mse: 4.1449e-04 - mape: 317671.2188\n",
      "Epoch 91/100\n",
      "3/3 [==============================] - 0s 33ms/step - loss: 3.6119e-04 - mse: 3.6119e-04 - mape: 271958.7500\n",
      "Epoch 92/100\n",
      "3/3 [==============================] - 0s 37ms/step - loss: 3.1002e-04 - mse: 3.1002e-04 - mape: 269183.3125\n",
      "Epoch 93/100\n",
      "3/3 [==============================] - 0s 35ms/step - loss: 3.1631e-04 - mse: 3.1631e-04 - mape: 286208.3125\n",
      "Epoch 94/100\n",
      "3/3 [==============================] - 0s 32ms/step - loss: 2.9288e-04 - mse: 2.9288e-04 - mape: 211991.6406\n",
      "Epoch 95/100\n",
      "3/3 [==============================] - 0s 33ms/step - loss: 3.7862e-04 - mse: 3.7862e-04 - mape: 190174.5625\n",
      "Epoch 96/100\n",
      "3/3 [==============================] - 0s 34ms/step - loss: 2.9777e-04 - mse: 2.9777e-04 - mape: 182235.3594\n",
      "Epoch 97/100\n",
      "3/3 [==============================] - 0s 61ms/step - loss: 2.5861e-04 - mse: 2.5861e-04 - mape: 214975.7500\n",
      "Epoch 98/100\n",
      "3/3 [==============================] - 0s 38ms/step - loss: 3.4888e-04 - mse: 3.4888e-04 - mape: 248303.5625\n",
      "Epoch 99/100\n",
      "3/3 [==============================] - 0s 38ms/step - loss: 2.9040e-04 - mse: 2.9040e-04 - mape: 167991.2031\n",
      "Epoch 100/100\n",
      "3/3 [==============================] - 0s 39ms/step - loss: 2.5624e-04 - mse: 2.5624e-04 - mape: 172757.0312\n"
     ]
    }
   ],
   "source": [
    "X_train = X[0:278]\n",
    "y_train = y[0:278]\n",
    "batch_size = 100\n",
    "epochs = 100\n",
    "history = model.fit(X_train, y_train, batch_size=batch_size, epochs=epochs)\n"
   ]
  },
  {
   "cell_type": "code",
   "execution_count": 41,
   "metadata": {},
   "outputs": [
    {
     "data": {
      "text/plain": [
       "[<matplotlib.lines.Line2D at 0x11e9045d400>]"
      ]
     },
     "execution_count": 41,
     "metadata": {},
     "output_type": "execute_result"
    },
    {
     "data": {
      "image/png": "[encoded data removed]",
      "text/plain": [
       "<Figure size 432x288 with 1 Axes>"
      ]
     },
     "metadata": {
      "needs_background": "light"
     },
     "output_type": "display_data"
    }
   ],
   "source": [
    "plt.title('train_loss')\n",
    "plt.ylabel('loss')\n",
    "plt.xlabel('epochs')\n",
    "plt.plot(history.history['loss'])"
   ]
  },
  {
   "cell_type": "code",
   "execution_count": 43,
   "metadata": {},
   "outputs": [],
   "source": [
    "X = []\n",
    "y = []\n",
    "indexes = []\n",
    "norm_data_x = test[feature_names]\n",
    "for i in range(0,len(test)-n_step): \n",
    "  X.append(norm_data_x.iloc[i:i+n_step].values) \n",
    "  y.append(test['備轉容量(MW)'].iloc[i+n_step-1]) #現有資料+30天的Y\n",
    "  indexes.append(test.index[i+n_step-1]) #Y的日期\n",
    "X=np.array(X) # RD外的6個自變量，記憶體=30，EX:預測12/31的Y，用12/1~12/30的X\n",
    "y=np.array(y)"
   ]
  },
  {
   "cell_type": "code",
   "execution_count": 44,
   "metadata": {},
   "outputs": [
    {
     "data": {
      "text/html": [
       "<div>\n",
       "<style scoped>\n",
       "    .dataframe tbody tr th:only-of-type {\n",
       "        vertical-align: middle;\n",
       "    }\n",
       "\n",
       "    .dataframe tbody tr th {\n",
       "        vertical-align: top;\n",
       "    }\n",
       "\n",
       "    .dataframe thead th {\n",
       "        text-align: right;\n",
       "    }\n",
       "</style>\n",
       "<table border=\"1\" class=\"dataframe\">\n",
       "  <thead>\n",
       "    <tr style=\"text-align: right;\">\n",
       "      <th></th>\n",
       "      <th>預測值</th>\n",
       "      <th>實際值</th>\n",
       "      <th>mas</th>\n",
       "    </tr>\n",
       "  </thead>\n",
       "  <tbody>\n",
       "    <tr>\n",
       "      <th>0</th>\n",
       "      <td>0.175478</td>\n",
       "      <td>0.145528</td>\n",
       "      <td>0.029950</td>\n",
       "    </tr>\n",
       "    <tr>\n",
       "      <th>1</th>\n",
       "      <td>0.185231</td>\n",
       "      <td>0.181766</td>\n",
       "      <td>0.003465</td>\n",
       "    </tr>\n",
       "    <tr>\n",
       "      <th>2</th>\n",
       "      <td>0.236112</td>\n",
       "      <td>0.241904</td>\n",
       "      <td>0.005792</td>\n",
       "    </tr>\n",
       "    <tr>\n",
       "      <th>3</th>\n",
       "      <td>0.224655</td>\n",
       "      <td>0.227255</td>\n",
       "      <td>0.002600</td>\n",
       "    </tr>\n",
       "    <tr>\n",
       "      <th>4</th>\n",
       "      <td>0.709679</td>\n",
       "      <td>0.777564</td>\n",
       "      <td>0.067884</td>\n",
       "    </tr>\n",
       "    <tr>\n",
       "      <th>...</th>\n",
       "      <td>...</td>\n",
       "      <td>...</td>\n",
       "      <td>...</td>\n",
       "    </tr>\n",
       "    <tr>\n",
       "      <th>134</th>\n",
       "      <td>0.182664</td>\n",
       "      <td>0.180802</td>\n",
       "      <td>0.001862</td>\n",
       "    </tr>\n",
       "    <tr>\n",
       "      <th>135</th>\n",
       "      <td>0.177131</td>\n",
       "      <td>0.170008</td>\n",
       "      <td>0.007123</td>\n",
       "    </tr>\n",
       "    <tr>\n",
       "      <th>136</th>\n",
       "      <td>0.336396</td>\n",
       "      <td>0.342521</td>\n",
       "      <td>0.006125</td>\n",
       "    </tr>\n",
       "    <tr>\n",
       "      <th>137</th>\n",
       "      <td>0.353350</td>\n",
       "      <td>0.348497</td>\n",
       "      <td>0.004853</td>\n",
       "    </tr>\n",
       "    <tr>\n",
       "      <th>138</th>\n",
       "      <td>0.404167</td>\n",
       "      <td>0.404973</td>\n",
       "      <td>0.000806</td>\n",
       "    </tr>\n",
       "  </tbody>\n",
       "</table>\n",
       "<p>139 rows × 3 columns</p>\n",
       "</div>"
      ],
      "text/plain": [
       "          預測值       實際值       mas\n",
       "0    0.175478  0.145528  0.029950\n",
       "1    0.185231  0.181766  0.003465\n",
       "2    0.236112  0.241904  0.005792\n",
       "3    0.224655  0.227255  0.002600\n",
       "4    0.709679  0.777564  0.067884\n",
       "..        ...       ...       ...\n",
       "134  0.182664  0.180802  0.001862\n",
       "135  0.177131  0.170008  0.007123\n",
       "136  0.336396  0.342521  0.006125\n",
       "137  0.353350  0.348497  0.004853\n",
       "138  0.404167  0.404973  0.000806\n",
       "\n",
       "[139 rows x 3 columns]"
      ]
     },
     "execution_count": 44,
     "metadata": {},
     "output_type": "execute_result"
    }
   ],
   "source": [
    "predictions = model.predict(X)\n",
    "predictions = pd.DataFrame(predictions).rename(columns={0: '預測值'})\n",
    "\n",
    "y_test = pd.DataFrame(y).rename(columns={0: '實際值'})\n",
    "\n",
    "final = pd.concat([predictions, y_test], axis=1)\n",
    "final['mas'] = abs(final['預測值'] - final['實際值'])\n",
    "final"
   ]
  },
  {
   "cell_type": "code",
   "execution_count": 51,
   "metadata": {},
   "outputs": [
    {
     "ename": "ValueError",
     "evalue": "operands could not be broadcast together with shapes (139,3) (2,) (139,3) ",
     "output_type": "error",
     "traceback": [
      "\u001b[1;31m---------------------------------------------------------------------------\u001b[0m",
      "\u001b[1;31mValueError\u001b[0m                                Traceback (most recent call last)",
      "\u001b[1;32m~\\AppData\\Local\\Temp/ipykernel_16956/1304352694.py\u001b[0m in \u001b[0;36m<module>\u001b[1;34m\u001b[0m\n\u001b[1;32m----> 1\u001b[1;33m \u001b[0mtrain\u001b[0m \u001b[1;33m=\u001b[0m \u001b[0mpd\u001b[0m\u001b[1;33m.\u001b[0m\u001b[0mDataFrame\u001b[0m\u001b[1;33m(\u001b[0m\u001b[0mscaler\u001b[0m\u001b[1;33m.\u001b[0m\u001b[0minverse_transform\u001b[0m\u001b[1;33m(\u001b[0m\u001b[0mfinal\u001b[0m\u001b[1;33m)\u001b[0m\u001b[1;33m,\u001b[0m \u001b[0mcolumns\u001b[0m\u001b[1;33m=\u001b[0m\u001b[0mdf\u001b[0m\u001b[1;33m.\u001b[0m\u001b[0mcolumns\u001b[0m\u001b[1;33m)\u001b[0m\u001b[1;33m\u001b[0m\u001b[0m\n\u001b[0m\u001b[0;32m      2\u001b[0m \u001b[0mtrain\u001b[0m\u001b[1;33m\u001b[0m\u001b[0m\n",
      "\u001b[1;32mD:\\Python\\Python37\\lib\\site-packages\\sklearn\\preprocessing\\_data.py\u001b[0m in \u001b[0;36minverse_transform\u001b[1;34m(self, X)\u001b[0m\n\u001b[0;32m    527\u001b[0m         )\n\u001b[0;32m    528\u001b[0m \u001b[1;33m\u001b[0m\u001b[0m\n\u001b[1;32m--> 529\u001b[1;33m         \u001b[0mX\u001b[0m \u001b[1;33m-=\u001b[0m \u001b[0mself\u001b[0m\u001b[1;33m.\u001b[0m\u001b[0mmin_\u001b[0m\u001b[1;33m\u001b[0m\u001b[0m\n\u001b[0m\u001b[0;32m    530\u001b[0m         \u001b[0mX\u001b[0m \u001b[1;33m/=\u001b[0m \u001b[0mself\u001b[0m\u001b[1;33m.\u001b[0m\u001b[0mscale_\u001b[0m\u001b[1;33m\u001b[0m\u001b[0m\n\u001b[0;32m    531\u001b[0m         \u001b[1;32mreturn\u001b[0m \u001b[0mX\u001b[0m\u001b[1;33m\u001b[0m\u001b[0m\n",
      "\u001b[1;31mValueError\u001b[0m: operands could not be broadcast together with shapes (139,3) (2,) (139,3) "
     ]
    }
   ],
   "source": [
    "train = pd.DataFrame(scaler.inverse_transform(final), columns=df.columns)\n",
    "train"
   ]
  }
 ],
 "metadata": {
  "interpreter": {
   "hash": "e700657700ca3726e7d919db0cb1bdb00b1449743532d1443fbe37ca2c1ec67d"
  },
  "kernelspec": {
   "display_name": "Python 3.7.0 64-bit",
   "language": "python",
   "name": "python3"
  },
  "language_info": {
   "codemirror_mode": {
    "name": "ipython",
    "version": 3
   },
   "file_extension": ".py",
   "mimetype": "text/x-python",
   "name": "python",
   "nbconvert_exporter": "python",
   "pygments_lexer": "ipython3",
   "version": "3.7.0"
  },
  "orig_nbformat": 4
 },
 "nbformat": 4,
 "nbformat_minor": 2
}
